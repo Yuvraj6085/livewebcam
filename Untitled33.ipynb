{
  "nbformat": 4,
  "nbformat_minor": 0,
  "metadata": {
    "colab": {
      "provenance": [],
      "authorship_tag": "ABX9TyObdRoD8s25E9K20LHgRe/O",
      "include_colab_link": true
    },
    "kernelspec": {
      "name": "python3",
      "display_name": "Python 3"
    },
    "language_info": {
      "name": "python"
    }
  },
  "cells": [
    {
      "cell_type": "markdown",
      "metadata": {
        "id": "view-in-github",
        "colab_type": "text"
      },
      "source": [
        "<a href=\"https://colab.research.google.com/github/Yuvraj6085/livewebcam/blob/main/Untitled33.ipynb\" target=\"_parent\"><img src=\"https://colab.research.google.com/assets/colab-badge.svg\" alt=\"Open In Colab\"/></a>"
      ]
    },
    {
      "cell_type": "code",
      "source": [
        "import cv2\n",
        "import numpy as np\n",
        "\n",
        "W, H = 640, 480  # Frame width & height\n",
        "\n",
        "cap = cv2.VideoCapture(0)\n",
        "cap.set(3, W)\n",
        "cap.set(4, H)\n",
        "cap.set(10, 150)\n",
        "\n",
        "# HSV ranges for tracking colors\n",
        "color_ranges = [\n",
        "    [5, 107, 0, 19, 255, 255],\n",
        "    [133, 56, 0, 159, 156, 255],\n",
        "    [57, 76, 0, 100, 255, 255],\n",
        "    [90, 48, 0, 118, 255, 255]\n",
        "]\n",
        "\n",
        "# Corresponding BGR values for drawing\n",
        "draw_colors = [\n",
        "    [51, 153, 255],\n",
        "    [255, 0, 255],\n",
        "    [0, 255, 0],\n",
        "    [255, 0, 0]\n",
        "]\n",
        "\n",
        "points = []  # [x, y, color_id]\n",
        "\n",
        "\n",
        "def find_color(img, ranges, bgr_vals):\n",
        "    hsv = cv2.cvtColor(img, cv2.COLOR_BGR2HSV)\n",
        "    new_pts = []\n",
        "    for idx, rng in enumerate(ranges):\n",
        "        lower, upper = np.array(rng[:3]), np.array(rng[3:])\n",
        "        mask = cv2.inRange(hsv, lower, upper)\n",
        "        cx, cy = get_contour_center(mask)\n",
        "        cv2.circle(result, (cx, cy), 15, bgr_vals[idx], cv2.FILLED)\n",
        "        if cx != 0 and cy != 0:\n",
        "            new_pts.append([cx, cy, idx])\n",
        "    return new_pts\n",
        "\n",
        "\n",
        "def get_contour_center(mask):\n",
        "    contours, _ = cv2.findContours(mask, cv2.RETR_EXTERNAL, cv2.CHAIN_APPROX_NONE)\n",
        "    cx, cy, w, h = 0, 0, 0, 0\n",
        "    for cnt in contours:\n",
        "        if cv2.contourArea(cnt) > 500:\n",
        "            peri = cv2.arcLength(cnt, True)\n",
        "            approx = cv2.approxPolyDP(cnt, 0.02 * peri, True)\n",
        "            x, y, w, h = cv2.boundingRect(approx)\n",
        "            return x + w // 2, y\n",
        "    return cx, cy\n",
        "\n",
        "\n",
        "def draw_canvas(pts, bgr_vals):\n",
        "    for x, y, color_id in pts:\n",
        "        cv2.circle(result, (x, y), 10, bgr_vals[color_id], cv2.FILLED)\n",
        "\n",
        "\n",
        "while True:\n",
        "    ret, frame = cap.read()\n",
        "    result = frame.copy()\n",
        "    new_pts = find_color(frame, color_ranges, draw_colors)\n",
        "    if new_pts:\n",
        "        points.extend(new_pts)\n",
        "    if points:\n",
        "        draw_canvas(points, draw_colors)\n",
        "\n",
        "    cv2.imshow(\"Result\", result)\n",
        "    if cv2.waitKey(1) & 0xFF == ord('q'):\n",
        "        break"
      ],
      "metadata": {
        "id": "ZyxLUQbWrOY2"
      },
      "execution_count": null,
      "outputs": []
    }
  ]
}